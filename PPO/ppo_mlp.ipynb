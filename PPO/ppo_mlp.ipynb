{
 "cells": [
  {
   "cell_type": "markdown",
   "metadata": {},
   "source": [
    "## COMP3340 Group 9 - PPO - MLP"
   ]
  },
  {
   "cell_type": "code",
   "execution_count": 1,
   "metadata": {},
   "outputs": [],
   "source": [
    "# change to False if you want to retrain the agent\n",
    "NO_TRAINING = True\n",
    "# NO_TRAINING = False"
   ]
  },
  {
   "cell_type": "markdown",
   "metadata": {},
   "source": [
    "### Dependencies"
   ]
  },
  {
   "cell_type": "code",
   "execution_count": 2,
   "metadata": {},
   "outputs": [],
   "source": [
    "# !pip install DI-engine\n",
    "# !pip install gym==0.25.1"
   ]
  },
  {
   "cell_type": "code",
   "execution_count": 3,
   "metadata": {},
   "outputs": [],
   "source": [
    "import warnings\n",
    "\n",
    "CONFIG_PATH = \"LunarLander-v2-PPO-MLP\""
   ]
  },
  {
   "cell_type": "markdown",
   "metadata": {},
   "source": [
    "### Train"
   ]
  },
  {
   "cell_type": "code",
   "execution_count": 4,
   "metadata": {},
   "outputs": [
    {
     "data": {
      "text/html": [
       "<pre style=\"white-space:pre;overflow-x:auto;line-height:normal;font-family:Menlo,'DejaVu Sans Mono',consolas,'Courier New',monospace\"><span style=\"color: #7fbfbf; text-decoration-color: #7fbfbf\">[04-24 23:57:10] </span><span style=\"color: #800000; text-decoration-color: #800000\">WARNING </span> not found transformer, please install it using: pip install transformers                                               <a href=\"file://c:\\Users\\User\\.conda\\envs\\ppo\\lib\\site-packages\\ding\\model\\template\\language_transformer.py\" target=\"_blank\"><span style=\"color: #7f7f7f; text-decoration-color: #7f7f7f\">language_transformer.py</span></a><span style=\"color: #7f7f7f; text-decoration-color: #7f7f7f\">:</span><a href=\"file://c:\\Users\\User\\.conda\\envs\\ppo\\lib\\site-packages\\ding\\model\\template\\language_transformer.py#9\" target=\"_blank\"><span style=\"color: #7f7f7f; text-decoration-color: #7f7f7f\">9</span></a>\n",
       "</pre>\n"
      ],
      "text/plain": [
       "\u001b[2;36m[04-24 23:57:10]\u001b[0m\u001b[2;36m \u001b[0m\u001b[31mWARNING \u001b[0m not found transformer, please install it using: pip install transformers                                               \u001b]8;id=577364;file://c:\\Users\\User\\.conda\\envs\\ppo\\lib\\site-packages\\ding\\model\\template\\language_transformer.py\u001b\\\u001b[2mlanguage_transformer.py\u001b[0m\u001b]8;;\u001b\\\u001b[2m:\u001b[0m\u001b]8;id=610966;file://c:\\Users\\User\\.conda\\envs\\ppo\\lib\\site-packages\\ding\\model\\template\\language_transformer.py#9\u001b\\\u001b[2m9\u001b[0m\u001b]8;;\u001b\\\n"
      ]
     },
     "metadata": {},
     "output_type": "display_data"
    }
   ],
   "source": [
    "warnings.filterwarnings('ignore')\n",
    "\n",
    "from ding.bonus import PPOF\n",
    "from ding.framework import OnlineRLContext, task\n",
    "from ding.framework.middleware import (\n",
    "    interaction_evaluator_ttorch, PPOFStepCollector, multistep_trainer, CkptSaver,\n",
    "    termination_checker, ppof_adv_estimator\n",
    ")\n",
    "\n",
    "from ding.envs import DingEnvWrapper, BaseEnvManagerV2\n",
    "import gym\n",
    "\n",
    "from typing import Optional\n",
    "\n",
    "class PPOFAgent(PPOF):\n",
    "    def __init__(self, *args, **kwargs) -> None:\n",
    "        super().__init__(*args, **kwargs)\n",
    "\n",
    "    def train(\n",
    "        self,\n",
    "        step: int = int(1e7),\n",
    "        collector_env_num: int = 4,\n",
    "        evaluator_env_num: int = 4,\n",
    "        n_iter_log_show: int = 500,\n",
    "        n_iter_save_ckpt: int = 1000,\n",
    "    ) -> None:\n",
    "        \"\"\"\n",
    "        Adapted from original implementation removing unccessary codes and added global flow control:\n",
    "        https://github.com/opendilab/DI-engine/blob/main/ding/bonus/ppof.py#L199\n",
    "        \"\"\"\n",
    "        if NO_TRAINING: return\n",
    "\n",
    "        manager_cfg = BaseEnvManagerV2.default_config()\n",
    "\n",
    "        collector_env = BaseEnvManagerV2(\n",
    "            env_fn=[lambda: DingEnvWrapper(gym.make(\"LunarLander-v2\")) for _ in range(collector_env_num)],\n",
    "            cfg=manager_cfg\n",
    "        )\n",
    "\n",
    "        evaluator_env = BaseEnvManagerV2(\n",
    "            env_fn=[lambda: DingEnvWrapper(gym.make(\"LunarLander-v2\")) for _ in range(evaluator_env_num)],\n",
    "            cfg=manager_cfg\n",
    "        )\n",
    "\n",
    "        with task.start(ctx=OnlineRLContext()):\n",
    "            task.use(interaction_evaluator_ttorch(self.seed, self.policy, evaluator_env))\n",
    "            task.use(CkptSaver(self.policy, save_dir=self.checkpoint_save_dir, train_freq=n_iter_save_ckpt))\n",
    "            task.use(PPOFStepCollector(self.seed, self.policy, collector_env, self.cfg.n_sample))\n",
    "            task.use(ppof_adv_estimator(self.policy))\n",
    "            task.use(multistep_trainer(self.policy, log_freq=n_iter_log_show))\n",
    "            task.use(termination_checker(max_env_step=step))\n",
    "            task.run()"
   ]
  },
  {
   "cell_type": "code",
   "execution_count": 5,
   "metadata": {},
   "outputs": [
    {
     "data": {
      "text/plain": [
       "{'type': 'ppo',\n",
       " 'on_policy': True,\n",
       " 'cuda': True,\n",
       " 'action_space': 'discrete',\n",
       " 'discount_factor': 0.99,\n",
       " 'gae_lambda': 0.95,\n",
       " 'epoch_per_collect': 10,\n",
       " 'batch_size': 64,\n",
       " 'learning_rate': 0.0003,\n",
       " 'lr_scheduler': None,\n",
       " 'weight_decay': 0,\n",
       " 'value_weight': 0.5,\n",
       " 'entropy_weight': 0.001,\n",
       " 'clip_ratio': 0.2,\n",
       " 'adv_norm': True,\n",
       " 'value_norm': 'popart',\n",
       " 'ppo_param_init': True,\n",
       " 'grad_norm': 0.5,\n",
       " 'n_sample': 512,\n",
       " 'unroll_len': 1,\n",
       " 'deterministic_eval': True,\n",
       " 'model': {},\n",
       " 'cfg_type': 'PPOFPolicyDict'}"
      ]
     },
     "metadata": {},
     "output_type": "display_data"
    }
   ],
   "source": [
    "from ding.bonus.config import get_instance_config\n",
    "\n",
    "cfg = get_instance_config(\"LunarLander-v2\", \"PPOF\")\n",
    "display(cfg)"
   ]
  },
  {
   "cell_type": "code",
   "execution_count": 6,
   "metadata": {},
   "outputs": [],
   "source": [
    "import logging\n",
    "\n",
    "LOG_FILE_PATH = f\"{CONFIG_PATH}/log/train/training.log\"\n",
    "\n",
    "logger = logging.getLogger()\n",
    "handler = logging.FileHandler(LOG_FILE_PATH)\n",
    "logger.addHandler(handler)"
   ]
  },
  {
   "cell_type": "code",
   "execution_count": 7,
   "metadata": {},
   "outputs": [],
   "source": [
    "from ding.utils import save_file\n",
    "\n",
    "warnings.filterwarnings('ignore')\n",
    "\n",
    "COLLECTOR_NUM = 4\n",
    "EVALUATOR_NUM = 4\n",
    "MANUAL_CKPT = f\"{CONFIG_PATH}/ckpt/manual_final.pth.tar\"\n",
    "\n",
    "agent = PPOFAgent(env_id=\"LunarLander-v2\", exp_name=CONFIG_PATH, cfg=cfg)\n",
    "agent.train(\n",
    "    step=int(4000000), \n",
    "    collector_env_num=COLLECTOR_NUM, \n",
    "    evaluator_env_num=EVALUATOR_NUM,\n",
    ")\n",
    "\n",
    "if not NO_TRAINING: \n",
    "    save_file(MANUAL_CKPT, agent.policy.learn_mode.state_dict())\n",
    "\n",
    "logger.removeHandler(handler)"
   ]
  },
  {
   "cell_type": "markdown",
   "metadata": {},
   "source": [
    "### Plot History\n",
    "The package does not store the training loss history locally, so it is needed to use the log output to extract the history."
   ]
  },
  {
   "cell_type": "code",
   "execution_count": 8,
   "metadata": {},
   "outputs": [],
   "source": [
    "loss_hist = []\n",
    "eval_rewards = []\n",
    "\n",
    "strip_fn = lambda x, name: x.removeprefix(f\"{name}(\").removesuffix(\")\")\n",
    "\n",
    "with open(LOG_FILE_PATH, \"r\") as f:\n",
    "    for line in f.readlines():\n",
    "        line = line.lower().split()\n",
    "        if line[0].startswith('['): line = line[3:-1]\n",
    "\n",
    "        if line[0] != \"training:\" and line[0] != \"evaluation:\": continue\n",
    "\n",
    "        iter = int(strip_fn(line[2], \"iter\"))\n",
    "        step = int(strip_fn(line[4], \"step\"))\n",
    "        \n",
    "        if line[0] == \"training:\":\n",
    "            loss = float(strip_fn(line[-1], \"loss\"))\n",
    "            loss_hist.append([iter, step, loss])\n",
    "\n",
    "        elif line[0] == \"evaluation:\":\n",
    "            reward = float(strip_fn(line[-1], \"return\"))\n",
    "            eval_rewards.append([iter, step, reward])"
   ]
  },
  {
   "cell_type": "code",
   "execution_count": 9,
   "metadata": {},
   "outputs": [
    {
     "data": {
      "text/plain": [
       "[<matplotlib.lines.Line2D at 0x215488bd1b0>]"
      ]
     },
     "execution_count": 9,
     "metadata": {},
     "output_type": "execute_result"
    },
    {
     "data": {
      "image/png": "[encoded data removed]",
      "text/plain": [
       "<Figure size 640x480 with 1 Axes>"
      ]
     },
     "metadata": {},
     "output_type": "display_data"
    }
   ],
   "source": [
    "from matplotlib import pyplot as plt\n",
    "import numpy as np\n",
    "import pandas as pd\n",
    "\n",
    "loss_hist = np.asarray(loss_hist)\n",
    "eval_rewards = np.asarray(eval_rewards)\n",
    "\n",
    "df = pd.DataFrame(data=eval_rewards, columns=[\"iter\", \"step\", \"reward\"])\n",
    "df.to_csv(f\"{LOG_FILE_PATH.split('.')[0]}.csv\")\n",
    "\n",
    "plt.plot(eval_rewards[:, 0], eval_rewards[:, -1])"
   ]
  },
  {
   "cell_type": "code",
   "execution_count": 10,
   "metadata": {},
   "outputs": [
    {
     "data": {
      "text/plain": [
       "[<matplotlib.lines.Line2D at 0x21548ae9840>]"
      ]
     },
     "execution_count": 10,
     "metadata": {},
     "output_type": "execute_result"
    },
    {
     "data": {
      "image/png": "[encoded data removed]",
      "text/plain": [
       "<Figure size 640x480 with 1 Axes>"
      ]
     },
     "metadata": {},
     "output_type": "display_data"
    }
   ],
   "source": [
    "cutoff = eval_rewards[:, 0] < 1.5e5\n",
    "\n",
    "plt.plot(eval_rewards[:, 0][cutoff], eval_rewards[:, -1][cutoff])"
   ]
  },
  {
   "cell_type": "markdown",
   "metadata": {},
   "source": [
    "### Result\n",
    "\n",
    "Remarks: Although the log is printing **\"DQN\"**, the agent is still trained using **PPO**. This is because the code for the logging part in the package is hardcoded."
   ]
  },
  {
   "cell_type": "code",
   "execution_count": 11,
   "metadata": {},
   "outputs": [
    {
     "data": {
      "text/html": [
       "<pre style=\"white-space:pre;overflow-x:auto;line-height:normal;font-family:Menlo,'DejaVu Sans Mono',consolas,'Courier New',monospace\"><span style=\"color: #7fbfbf; text-decoration-color: #7fbfbf\">[04-24 23:57:23] </span><span style=\"color: #000080; text-decoration-color: #000080\">INFO    </span> DQN deploy is finished, final episode return with <span style=\"color: #008080; text-decoration-color: #008080; font-weight: bold\">93</span> steps is: <span style=\"font-weight: bold\">[</span><span style=\"color: #008080; text-decoration-color: #008080; font-weight: bold\">51.770752</span><span style=\"font-weight: bold\">]</span>                                                           <a href=\"file://c:\\Users\\User\\.conda\\envs\\ppo\\lib\\site-packages\\ding\\bonus\\ppof.py\" target=\"_blank\"><span style=\"color: #7f7f7f; text-decoration-color: #7f7f7f\">ppof.py</span></a><span style=\"color: #7f7f7f; text-decoration-color: #7f7f7f\">:</span><a href=\"file://c:\\Users\\User\\.conda\\envs\\ppo\\lib\\site-packages\\ding\\bonus\\ppof.py#344\" target=\"_blank\"><span style=\"color: #7f7f7f; text-decoration-color: #7f7f7f\">344</span></a>\n",
       "</pre>\n"
      ],
      "text/plain": [
       "\u001b[2;36m[04-24 23:57:23]\u001b[0m\u001b[2;36m \u001b[0m\u001b[34mINFO    \u001b[0m DQN deploy is finished, final episode return with \u001b[1;36m93\u001b[0m steps is: \u001b[1m[\u001b[0m\u001b[1;36m51.770752\u001b[0m\u001b[1m]\u001b[0m                                                           \u001b]8;id=648406;file://c:\\Users\\User\\.conda\\envs\\ppo\\lib\\site-packages\\ding\\bonus\\ppof.py\u001b\\\u001b[2mppof.py\u001b[0m\u001b]8;;\u001b\\\u001b[2m:\u001b[0m\u001b]8;id=838234;file://c:\\Users\\User\\.conda\\envs\\ppo\\lib\\site-packages\\ding\\bonus\\ppof.py#344\u001b\\\u001b[2m344\u001b[0m\u001b]8;;\u001b\\\n"
      ]
     },
     "metadata": {},
     "output_type": "display_data"
    },
    {
     "data": {
      "text/html": [
       "<pre style=\"white-space:pre;overflow-x:auto;line-height:normal;font-family:Menlo,'DejaVu Sans Mono',consolas,'Courier New',monospace\"><span style=\"color: #7fbfbf; text-decoration-color: #7fbfbf\">[04-24 23:57:24] </span><span style=\"color: #000080; text-decoration-color: #000080\">INFO    </span> DQN deploy is finished, final episode return with <span style=\"color: #008080; text-decoration-color: #008080; font-weight: bold\">169</span> steps is: <span style=\"font-weight: bold\">[</span><span style=\"color: #008080; text-decoration-color: #008080; font-weight: bold\">263.3382</span><span style=\"font-weight: bold\">]</span>                                                           <a href=\"file://c:\\Users\\User\\.conda\\envs\\ppo\\lib\\site-packages\\ding\\bonus\\ppof.py\" target=\"_blank\"><span style=\"color: #7f7f7f; text-decoration-color: #7f7f7f\">ppof.py</span></a><span style=\"color: #7f7f7f; text-decoration-color: #7f7f7f\">:</span><a href=\"file://c:\\Users\\User\\.conda\\envs\\ppo\\lib\\site-packages\\ding\\bonus\\ppof.py#344\" target=\"_blank\"><span style=\"color: #7f7f7f; text-decoration-color: #7f7f7f\">344</span></a>\n",
       "</pre>\n"
      ],
      "text/plain": [
       "\u001b[2;36m[04-24 23:57:24]\u001b[0m\u001b[2;36m \u001b[0m\u001b[34mINFO    \u001b[0m DQN deploy is finished, final episode return with \u001b[1;36m169\u001b[0m steps is: \u001b[1m[\u001b[0m\u001b[1;36m263.3382\u001b[0m\u001b[1m]\u001b[0m                                                           \u001b]8;id=849574;file://c:\\Users\\User\\.conda\\envs\\ppo\\lib\\site-packages\\ding\\bonus\\ppof.py\u001b\\\u001b[2mppof.py\u001b[0m\u001b]8;;\u001b\\\u001b[2m:\u001b[0m\u001b]8;id=631140;file://c:\\Users\\User\\.conda\\envs\\ppo\\lib\\site-packages\\ding\\bonus\\ppof.py#344\u001b\\\u001b[2m344\u001b[0m\u001b]8;;\u001b\\\n"
      ]
     },
     "metadata": {},
     "output_type": "display_data"
    },
    {
     "data": {
      "text/html": [
       "<pre style=\"white-space:pre;overflow-x:auto;line-height:normal;font-family:Menlo,'DejaVu Sans Mono',consolas,'Courier New',monospace\"><span style=\"color: #7fbfbf; text-decoration-color: #7fbfbf\">[04-24 23:57:26] </span><span style=\"color: #000080; text-decoration-color: #000080\">INFO    </span> DQN deploy is finished, final episode return with <span style=\"color: #008080; text-decoration-color: #008080; font-weight: bold\">271</span> steps is: <span style=\"font-weight: bold\">[</span><span style=\"color: #008080; text-decoration-color: #008080; font-weight: bold\">301.83304</span><span style=\"font-weight: bold\">]</span>                                                          <a href=\"file://c:\\Users\\User\\.conda\\envs\\ppo\\lib\\site-packages\\ding\\bonus\\ppof.py\" target=\"_blank\"><span style=\"color: #7f7f7f; text-decoration-color: #7f7f7f\">ppof.py</span></a><span style=\"color: #7f7f7f; text-decoration-color: #7f7f7f\">:</span><a href=\"file://c:\\Users\\User\\.conda\\envs\\ppo\\lib\\site-packages\\ding\\bonus\\ppof.py#344\" target=\"_blank\"><span style=\"color: #7f7f7f; text-decoration-color: #7f7f7f\">344</span></a>\n",
       "</pre>\n"
      ],
      "text/plain": [
       "\u001b[2;36m[04-24 23:57:26]\u001b[0m\u001b[2;36m \u001b[0m\u001b[34mINFO    \u001b[0m DQN deploy is finished, final episode return with \u001b[1;36m271\u001b[0m steps is: \u001b[1m[\u001b[0m\u001b[1;36m301.83304\u001b[0m\u001b[1m]\u001b[0m                                                          \u001b]8;id=765284;file://c:\\Users\\User\\.conda\\envs\\ppo\\lib\\site-packages\\ding\\bonus\\ppof.py\u001b\\\u001b[2mppof.py\u001b[0m\u001b]8;;\u001b\\\u001b[2m:\u001b[0m\u001b]8;id=77324;file://c:\\Users\\User\\.conda\\envs\\ppo\\lib\\site-packages\\ding\\bonus\\ppof.py#344\u001b\\\u001b[2m344\u001b[0m\u001b]8;;\u001b\\\n"
      ]
     },
     "metadata": {},
     "output_type": "display_data"
    },
    {
     "data": {
      "text/html": [
       "<pre style=\"white-space:pre;overflow-x:auto;line-height:normal;font-family:Menlo,'DejaVu Sans Mono',consolas,'Courier New',monospace\"><span style=\"color: #7fbfbf; text-decoration-color: #7fbfbf\">[04-24 23:57:27] </span><span style=\"color: #000080; text-decoration-color: #000080\">INFO    </span> DQN deploy is finished, final episode return with <span style=\"color: #008080; text-decoration-color: #008080; font-weight: bold\">172</span> steps is: <span style=\"font-weight: bold\">[</span><span style=\"color: #008080; text-decoration-color: #008080; font-weight: bold\">280.77966</span><span style=\"font-weight: bold\">]</span>                                                          <a href=\"file://c:\\Users\\User\\.conda\\envs\\ppo\\lib\\site-packages\\ding\\bonus\\ppof.py\" target=\"_blank\"><span style=\"color: #7f7f7f; text-decoration-color: #7f7f7f\">ppof.py</span></a><span style=\"color: #7f7f7f; text-decoration-color: #7f7f7f\">:</span><a href=\"file://c:\\Users\\User\\.conda\\envs\\ppo\\lib\\site-packages\\ding\\bonus\\ppof.py#344\" target=\"_blank\"><span style=\"color: #7f7f7f; text-decoration-color: #7f7f7f\">344</span></a>\n",
       "</pre>\n"
      ],
      "text/plain": [
       "\u001b[2;36m[04-24 23:57:27]\u001b[0m\u001b[2;36m \u001b[0m\u001b[34mINFO    \u001b[0m DQN deploy is finished, final episode return with \u001b[1;36m172\u001b[0m steps is: \u001b[1m[\u001b[0m\u001b[1;36m280.77966\u001b[0m\u001b[1m]\u001b[0m                                                          \u001b]8;id=495077;file://c:\\Users\\User\\.conda\\envs\\ppo\\lib\\site-packages\\ding\\bonus\\ppof.py\u001b\\\u001b[2mppof.py\u001b[0m\u001b]8;;\u001b\\\u001b[2m:\u001b[0m\u001b]8;id=587007;file://c:\\Users\\User\\.conda\\envs\\ppo\\lib\\site-packages\\ding\\bonus\\ppof.py#344\u001b\\\u001b[2m344\u001b[0m\u001b]8;;\u001b\\\n"
      ]
     },
     "metadata": {},
     "output_type": "display_data"
    },
    {
     "data": {
      "text/html": [
       "<pre style=\"white-space:pre;overflow-x:auto;line-height:normal;font-family:Menlo,'DejaVu Sans Mono',consolas,'Courier New',monospace\"><span style=\"color: #7fbfbf; text-decoration-color: #7fbfbf\">[04-24 23:57:33] </span><span style=\"color: #000080; text-decoration-color: #000080\">INFO    </span> DQN deploy is finished, final episode return with <span style=\"color: #008080; text-decoration-color: #008080; font-weight: bold\">1000</span> steps is: <span style=\"font-weight: bold\">[</span><span style=\"color: #008080; text-decoration-color: #008080; font-weight: bold\">165.29247</span><span style=\"font-weight: bold\">]</span>                                                         <a href=\"file://c:\\Users\\User\\.conda\\envs\\ppo\\lib\\site-packages\\ding\\bonus\\ppof.py\" target=\"_blank\"><span style=\"color: #7f7f7f; text-decoration-color: #7f7f7f\">ppof.py</span></a><span style=\"color: #7f7f7f; text-decoration-color: #7f7f7f\">:</span><a href=\"file://c:\\Users\\User\\.conda\\envs\\ppo\\lib\\site-packages\\ding\\bonus\\ppof.py#344\" target=\"_blank\"><span style=\"color: #7f7f7f; text-decoration-color: #7f7f7f\">344</span></a>\n",
       "</pre>\n"
      ],
      "text/plain": [
       "\u001b[2;36m[04-24 23:57:33]\u001b[0m\u001b[2;36m \u001b[0m\u001b[34mINFO    \u001b[0m DQN deploy is finished, final episode return with \u001b[1;36m1000\u001b[0m steps is: \u001b[1m[\u001b[0m\u001b[1;36m165.29247\u001b[0m\u001b[1m]\u001b[0m                                                         \u001b]8;id=640561;file://c:\\Users\\User\\.conda\\envs\\ppo\\lib\\site-packages\\ding\\bonus\\ppof.py\u001b\\\u001b[2mppof.py\u001b[0m\u001b]8;;\u001b\\\u001b[2m:\u001b[0m\u001b]8;id=671532;file://c:\\Users\\User\\.conda\\envs\\ppo\\lib\\site-packages\\ding\\bonus\\ppof.py#344\u001b\\\u001b[2m344\u001b[0m\u001b]8;;\u001b\\\n"
      ]
     },
     "metadata": {},
     "output_type": "display_data"
    },
    {
     "data": {
      "text/html": [
       "<pre style=\"white-space:pre;overflow-x:auto;line-height:normal;font-family:Menlo,'DejaVu Sans Mono',consolas,'Courier New',monospace\"><span style=\"color: #7fbfbf; text-decoration-color: #7fbfbf\">[04-24 23:57:34] </span><span style=\"color: #000080; text-decoration-color: #000080\">INFO    </span> DQN deploy is finished, final episode return with <span style=\"color: #008080; text-decoration-color: #008080; font-weight: bold\">190</span> steps is: <span style=\"font-weight: bold\">[</span><span style=\"color: #008080; text-decoration-color: #008080; font-weight: bold\">281.6443</span><span style=\"font-weight: bold\">]</span>                                                           <a href=\"file://c:\\Users\\User\\.conda\\envs\\ppo\\lib\\site-packages\\ding\\bonus\\ppof.py\" target=\"_blank\"><span style=\"color: #7f7f7f; text-decoration-color: #7f7f7f\">ppof.py</span></a><span style=\"color: #7f7f7f; text-decoration-color: #7f7f7f\">:</span><a href=\"file://c:\\Users\\User\\.conda\\envs\\ppo\\lib\\site-packages\\ding\\bonus\\ppof.py#344\" target=\"_blank\"><span style=\"color: #7f7f7f; text-decoration-color: #7f7f7f\">344</span></a>\n",
       "</pre>\n"
      ],
      "text/plain": [
       "\u001b[2;36m[04-24 23:57:34]\u001b[0m\u001b[2;36m \u001b[0m\u001b[34mINFO    \u001b[0m DQN deploy is finished, final episode return with \u001b[1;36m190\u001b[0m steps is: \u001b[1m[\u001b[0m\u001b[1;36m281.6443\u001b[0m\u001b[1m]\u001b[0m                                                           \u001b]8;id=464197;file://c:\\Users\\User\\.conda\\envs\\ppo\\lib\\site-packages\\ding\\bonus\\ppof.py\u001b\\\u001b[2mppof.py\u001b[0m\u001b]8;;\u001b\\\u001b[2m:\u001b[0m\u001b]8;id=907343;file://c:\\Users\\User\\.conda\\envs\\ppo\\lib\\site-packages\\ding\\bonus\\ppof.py#344\u001b\\\u001b[2m344\u001b[0m\u001b]8;;\u001b\\\n"
      ]
     },
     "metadata": {},
     "output_type": "display_data"
    },
    {
     "data": {
      "text/html": [
       "<pre style=\"white-space:pre;overflow-x:auto;line-height:normal;font-family:Menlo,'DejaVu Sans Mono',consolas,'Courier New',monospace\"><span style=\"color: #7fbfbf; text-decoration-color: #7fbfbf\">[04-24 23:57:35] </span><span style=\"color: #000080; text-decoration-color: #000080\">INFO    </span> DQN deploy is finished, final episode return with <span style=\"color: #008080; text-decoration-color: #008080; font-weight: bold\">190</span> steps is: <span style=\"font-weight: bold\">[</span><span style=\"color: #008080; text-decoration-color: #008080; font-weight: bold\">261.96466</span><span style=\"font-weight: bold\">]</span>                                                          <a href=\"file://c:\\Users\\User\\.conda\\envs\\ppo\\lib\\site-packages\\ding\\bonus\\ppof.py\" target=\"_blank\"><span style=\"color: #7f7f7f; text-decoration-color: #7f7f7f\">ppof.py</span></a><span style=\"color: #7f7f7f; text-decoration-color: #7f7f7f\">:</span><a href=\"file://c:\\Users\\User\\.conda\\envs\\ppo\\lib\\site-packages\\ding\\bonus\\ppof.py#344\" target=\"_blank\"><span style=\"color: #7f7f7f; text-decoration-color: #7f7f7f\">344</span></a>\n",
       "</pre>\n"
      ],
      "text/plain": [
       "\u001b[2;36m[04-24 23:57:35]\u001b[0m\u001b[2;36m \u001b[0m\u001b[34mINFO    \u001b[0m DQN deploy is finished, final episode return with \u001b[1;36m190\u001b[0m steps is: \u001b[1m[\u001b[0m\u001b[1;36m261.96466\u001b[0m\u001b[1m]\u001b[0m                                                          \u001b]8;id=963080;file://c:\\Users\\User\\.conda\\envs\\ppo\\lib\\site-packages\\ding\\bonus\\ppof.py\u001b\\\u001b[2mppof.py\u001b[0m\u001b]8;;\u001b\\\u001b[2m:\u001b[0m\u001b]8;id=575352;file://c:\\Users\\User\\.conda\\envs\\ppo\\lib\\site-packages\\ding\\bonus\\ppof.py#344\u001b\\\u001b[2m344\u001b[0m\u001b]8;;\u001b\\\n"
      ]
     },
     "metadata": {},
     "output_type": "display_data"
    },
    {
     "data": {
      "text/html": [
       "<pre style=\"white-space:pre;overflow-x:auto;line-height:normal;font-family:Menlo,'DejaVu Sans Mono',consolas,'Courier New',monospace\"><span style=\"color: #7fbfbf; text-decoration-color: #7fbfbf\">[04-24 23:57:36] </span><span style=\"color: #000080; text-decoration-color: #000080\">INFO    </span> DQN deploy is finished, final episode return with <span style=\"color: #008080; text-decoration-color: #008080; font-weight: bold\">170</span> steps is: <span style=\"font-weight: bold\">[</span><span style=\"color: #008080; text-decoration-color: #008080; font-weight: bold\">257.0539</span><span style=\"font-weight: bold\">]</span>                                                           <a href=\"file://c:\\Users\\User\\.conda\\envs\\ppo\\lib\\site-packages\\ding\\bonus\\ppof.py\" target=\"_blank\"><span style=\"color: #7f7f7f; text-decoration-color: #7f7f7f\">ppof.py</span></a><span style=\"color: #7f7f7f; text-decoration-color: #7f7f7f\">:</span><a href=\"file://c:\\Users\\User\\.conda\\envs\\ppo\\lib\\site-packages\\ding\\bonus\\ppof.py#344\" target=\"_blank\"><span style=\"color: #7f7f7f; text-decoration-color: #7f7f7f\">344</span></a>\n",
       "</pre>\n"
      ],
      "text/plain": [
       "\u001b[2;36m[04-24 23:57:36]\u001b[0m\u001b[2;36m \u001b[0m\u001b[34mINFO    \u001b[0m DQN deploy is finished, final episode return with \u001b[1;36m170\u001b[0m steps is: \u001b[1m[\u001b[0m\u001b[1;36m257.0539\u001b[0m\u001b[1m]\u001b[0m                                                           \u001b]8;id=880899;file://c:\\Users\\User\\.conda\\envs\\ppo\\lib\\site-packages\\ding\\bonus\\ppof.py\u001b\\\u001b[2mppof.py\u001b[0m\u001b]8;;\u001b\\\u001b[2m:\u001b[0m\u001b]8;id=418196;file://c:\\Users\\User\\.conda\\envs\\ppo\\lib\\site-packages\\ding\\bonus\\ppof.py#344\u001b\\\u001b[2m344\u001b[0m\u001b]8;;\u001b\\\n"
      ]
     },
     "metadata": {},
     "output_type": "display_data"
    },
    {
     "data": {
      "text/html": [
       "<pre style=\"white-space:pre;overflow-x:auto;line-height:normal;font-family:Menlo,'DejaVu Sans Mono',consolas,'Courier New',monospace\"><span style=\"color: #7fbfbf; text-decoration-color: #7fbfbf\">[04-24 23:57:38] </span><span style=\"color: #000080; text-decoration-color: #000080\">INFO    </span> DQN deploy is finished, final episode return with <span style=\"color: #008080; text-decoration-color: #008080; font-weight: bold\">175</span> steps is: <span style=\"font-weight: bold\">[</span><span style=\"color: #008080; text-decoration-color: #008080; font-weight: bold\">274.34772</span><span style=\"font-weight: bold\">]</span>                                                          <a href=\"file://c:\\Users\\User\\.conda\\envs\\ppo\\lib\\site-packages\\ding\\bonus\\ppof.py\" target=\"_blank\"><span style=\"color: #7f7f7f; text-decoration-color: #7f7f7f\">ppof.py</span></a><span style=\"color: #7f7f7f; text-decoration-color: #7f7f7f\">:</span><a href=\"file://c:\\Users\\User\\.conda\\envs\\ppo\\lib\\site-packages\\ding\\bonus\\ppof.py#344\" target=\"_blank\"><span style=\"color: #7f7f7f; text-decoration-color: #7f7f7f\">344</span></a>\n",
       "</pre>\n"
      ],
      "text/plain": [
       "\u001b[2;36m[04-24 23:57:38]\u001b[0m\u001b[2;36m \u001b[0m\u001b[34mINFO    \u001b[0m DQN deploy is finished, final episode return with \u001b[1;36m175\u001b[0m steps is: \u001b[1m[\u001b[0m\u001b[1;36m274.34772\u001b[0m\u001b[1m]\u001b[0m                                                          \u001b]8;id=655638;file://c:\\Users\\User\\.conda\\envs\\ppo\\lib\\site-packages\\ding\\bonus\\ppof.py\u001b\\\u001b[2mppof.py\u001b[0m\u001b]8;;\u001b\\\u001b[2m:\u001b[0m\u001b]8;id=1198;file://c:\\Users\\User\\.conda\\envs\\ppo\\lib\\site-packages\\ding\\bonus\\ppof.py#344\u001b\\\u001b[2m344\u001b[0m\u001b]8;;\u001b\\\n"
      ]
     },
     "metadata": {},
     "output_type": "display_data"
    },
    {
     "data": {
      "text/html": [
       "<pre style=\"white-space:pre;overflow-x:auto;line-height:normal;font-family:Menlo,'DejaVu Sans Mono',consolas,'Courier New',monospace\"><span style=\"color: #7fbfbf; text-decoration-color: #7fbfbf\">[04-24 23:57:39] </span><span style=\"color: #000080; text-decoration-color: #000080\">INFO    </span> DQN deploy is finished, final episode return with <span style=\"color: #008080; text-decoration-color: #008080; font-weight: bold\">155</span> steps is: <span style=\"font-weight: bold\">[</span><span style=\"color: #008080; text-decoration-color: #008080; font-weight: bold\">261.54608</span><span style=\"font-weight: bold\">]</span>                                                          <a href=\"file://c:\\Users\\User\\.conda\\envs\\ppo\\lib\\site-packages\\ding\\bonus\\ppof.py\" target=\"_blank\"><span style=\"color: #7f7f7f; text-decoration-color: #7f7f7f\">ppof.py</span></a><span style=\"color: #7f7f7f; text-decoration-color: #7f7f7f\">:</span><a href=\"file://c:\\Users\\User\\.conda\\envs\\ppo\\lib\\site-packages\\ding\\bonus\\ppof.py#344\" target=\"_blank\"><span style=\"color: #7f7f7f; text-decoration-color: #7f7f7f\">344</span></a>\n",
       "</pre>\n"
      ],
      "text/plain": [
       "\u001b[2;36m[04-24 23:57:39]\u001b[0m\u001b[2;36m \u001b[0m\u001b[34mINFO    \u001b[0m DQN deploy is finished, final episode return with \u001b[1;36m155\u001b[0m steps is: \u001b[1m[\u001b[0m\u001b[1;36m261.54608\u001b[0m\u001b[1m]\u001b[0m                                                          \u001b]8;id=349317;file://c:\\Users\\User\\.conda\\envs\\ppo\\lib\\site-packages\\ding\\bonus\\ppof.py\u001b\\\u001b[2mppof.py\u001b[0m\u001b]8;;\u001b\\\u001b[2m:\u001b[0m\u001b]8;id=255759;file://c:\\Users\\User\\.conda\\envs\\ppo\\lib\\site-packages\\ding\\bonus\\ppof.py#344\u001b\\\u001b[2m344\u001b[0m\u001b]8;;\u001b\\\n"
      ]
     },
     "metadata": {},
     "output_type": "display_data"
    },
    {
     "data": {
      "text/html": [
       "<pre style=\"white-space:pre;overflow-x:auto;line-height:normal;font-family:Menlo,'DejaVu Sans Mono',consolas,'Courier New',monospace\"><span style=\"color: #7fbfbf; text-decoration-color: #7fbfbf\">[04-24 23:57:40] </span><span style=\"color: #000080; text-decoration-color: #000080\">INFO    </span> DQN deploy is finished, final episode return with <span style=\"color: #008080; text-decoration-color: #008080; font-weight: bold\">215</span> steps is: <span style=\"font-weight: bold\">[</span><span style=\"color: #008080; text-decoration-color: #008080; font-weight: bold\">302.19153</span><span style=\"font-weight: bold\">]</span>                                                          <a href=\"file://c:\\Users\\User\\.conda\\envs\\ppo\\lib\\site-packages\\ding\\bonus\\ppof.py\" target=\"_blank\"><span style=\"color: #7f7f7f; text-decoration-color: #7f7f7f\">ppof.py</span></a><span style=\"color: #7f7f7f; text-decoration-color: #7f7f7f\">:</span><a href=\"file://c:\\Users\\User\\.conda\\envs\\ppo\\lib\\site-packages\\ding\\bonus\\ppof.py#344\" target=\"_blank\"><span style=\"color: #7f7f7f; text-decoration-color: #7f7f7f\">344</span></a>\n",
       "</pre>\n"
      ],
      "text/plain": [
       "\u001b[2;36m[04-24 23:57:40]\u001b[0m\u001b[2;36m \u001b[0m\u001b[34mINFO    \u001b[0m DQN deploy is finished, final episode return with \u001b[1;36m215\u001b[0m steps is: \u001b[1m[\u001b[0m\u001b[1;36m302.19153\u001b[0m\u001b[1m]\u001b[0m                                                          \u001b]8;id=66043;file://c:\\Users\\User\\.conda\\envs\\ppo\\lib\\site-packages\\ding\\bonus\\ppof.py\u001b\\\u001b[2mppof.py\u001b[0m\u001b]8;;\u001b\\\u001b[2m:\u001b[0m\u001b]8;id=200348;file://c:\\Users\\User\\.conda\\envs\\ppo\\lib\\site-packages\\ding\\bonus\\ppof.py#344\u001b\\\u001b[2m344\u001b[0m\u001b]8;;\u001b\\\n"
      ]
     },
     "metadata": {},
     "output_type": "display_data"
    },
    {
     "data": {
      "text/html": [
       "<pre style=\"white-space:pre;overflow-x:auto;line-height:normal;font-family:Menlo,'DejaVu Sans Mono',consolas,'Courier New',monospace\"><span style=\"color: #7fbfbf; text-decoration-color: #7fbfbf\">[04-24 23:57:41] </span><span style=\"color: #000080; text-decoration-color: #000080\">INFO    </span> DQN deploy is finished, final episode return with <span style=\"color: #008080; text-decoration-color: #008080; font-weight: bold\">169</span> steps is: <span style=\"font-weight: bold\">[</span><span style=\"color: #008080; text-decoration-color: #008080; font-weight: bold\">296.4864</span><span style=\"font-weight: bold\">]</span>                                                           <a href=\"file://c:\\Users\\User\\.conda\\envs\\ppo\\lib\\site-packages\\ding\\bonus\\ppof.py\" target=\"_blank\"><span style=\"color: #7f7f7f; text-decoration-color: #7f7f7f\">ppof.py</span></a><span style=\"color: #7f7f7f; text-decoration-color: #7f7f7f\">:</span><a href=\"file://c:\\Users\\User\\.conda\\envs\\ppo\\lib\\site-packages\\ding\\bonus\\ppof.py#344\" target=\"_blank\"><span style=\"color: #7f7f7f; text-decoration-color: #7f7f7f\">344</span></a>\n",
       "</pre>\n"
      ],
      "text/plain": [
       "\u001b[2;36m[04-24 23:57:41]\u001b[0m\u001b[2;36m \u001b[0m\u001b[34mINFO    \u001b[0m DQN deploy is finished, final episode return with \u001b[1;36m169\u001b[0m steps is: \u001b[1m[\u001b[0m\u001b[1;36m296.4864\u001b[0m\u001b[1m]\u001b[0m                                                           \u001b]8;id=842368;file://c:\\Users\\User\\.conda\\envs\\ppo\\lib\\site-packages\\ding\\bonus\\ppof.py\u001b\\\u001b[2mppof.py\u001b[0m\u001b]8;;\u001b\\\u001b[2m:\u001b[0m\u001b]8;id=149416;file://c:\\Users\\User\\.conda\\envs\\ppo\\lib\\site-packages\\ding\\bonus\\ppof.py#344\u001b\\\u001b[2m344\u001b[0m\u001b]8;;\u001b\\\n"
      ]
     },
     "metadata": {},
     "output_type": "display_data"
    },
    {
     "data": {
      "text/html": [
       "<pre style=\"white-space:pre;overflow-x:auto;line-height:normal;font-family:Menlo,'DejaVu Sans Mono',consolas,'Courier New',monospace\"><span style=\"color: #7fbfbf; text-decoration-color: #7fbfbf\">[04-24 23:57:42] </span><span style=\"color: #000080; text-decoration-color: #000080\">INFO    </span> DQN deploy is finished, final episode return with <span style=\"color: #008080; text-decoration-color: #008080; font-weight: bold\">165</span> steps is: <span style=\"font-weight: bold\">[</span><span style=\"color: #008080; text-decoration-color: #008080; font-weight: bold\">273.77533</span><span style=\"font-weight: bold\">]</span>                                                          <a href=\"file://c:\\Users\\User\\.conda\\envs\\ppo\\lib\\site-packages\\ding\\bonus\\ppof.py\" target=\"_blank\"><span style=\"color: #7f7f7f; text-decoration-color: #7f7f7f\">ppof.py</span></a><span style=\"color: #7f7f7f; text-decoration-color: #7f7f7f\">:</span><a href=\"file://c:\\Users\\User\\.conda\\envs\\ppo\\lib\\site-packages\\ding\\bonus\\ppof.py#344\" target=\"_blank\"><span style=\"color: #7f7f7f; text-decoration-color: #7f7f7f\">344</span></a>\n",
       "</pre>\n"
      ],
      "text/plain": [
       "\u001b[2;36m[04-24 23:57:42]\u001b[0m\u001b[2;36m \u001b[0m\u001b[34mINFO    \u001b[0m DQN deploy is finished, final episode return with \u001b[1;36m165\u001b[0m steps is: \u001b[1m[\u001b[0m\u001b[1;36m273.77533\u001b[0m\u001b[1m]\u001b[0m                                                          \u001b]8;id=84353;file://c:\\Users\\User\\.conda\\envs\\ppo\\lib\\site-packages\\ding\\bonus\\ppof.py\u001b\\\u001b[2mppof.py\u001b[0m\u001b]8;;\u001b\\\u001b[2m:\u001b[0m\u001b]8;id=335601;file://c:\\Users\\User\\.conda\\envs\\ppo\\lib\\site-packages\\ding\\bonus\\ppof.py#344\u001b\\\u001b[2m344\u001b[0m\u001b]8;;\u001b\\\n"
      ]
     },
     "metadata": {},
     "output_type": "display_data"
    },
    {
     "data": {
      "text/html": [
       "<pre style=\"white-space:pre;overflow-x:auto;line-height:normal;font-family:Menlo,'DejaVu Sans Mono',consolas,'Courier New',monospace\"><span style=\"color: #7fbfbf; text-decoration-color: #7fbfbf\">[04-24 23:57:44] </span><span style=\"color: #000080; text-decoration-color: #000080\">INFO    </span> DQN deploy is finished, final episode return with <span style=\"color: #008080; text-decoration-color: #008080; font-weight: bold\">134</span> steps is: <span style=\"font-weight: bold\">[</span><span style=\"color: #008080; text-decoration-color: #008080; font-weight: bold\">45.218613</span><span style=\"font-weight: bold\">]</span>                                                          <a href=\"file://c:\\Users\\User\\.conda\\envs\\ppo\\lib\\site-packages\\ding\\bonus\\ppof.py\" target=\"_blank\"><span style=\"color: #7f7f7f; text-decoration-color: #7f7f7f\">ppof.py</span></a><span style=\"color: #7f7f7f; text-decoration-color: #7f7f7f\">:</span><a href=\"file://c:\\Users\\User\\.conda\\envs\\ppo\\lib\\site-packages\\ding\\bonus\\ppof.py#344\" target=\"_blank\"><span style=\"color: #7f7f7f; text-decoration-color: #7f7f7f\">344</span></a>\n",
       "</pre>\n"
      ],
      "text/plain": [
       "\u001b[2;36m[04-24 23:57:44]\u001b[0m\u001b[2;36m \u001b[0m\u001b[34mINFO    \u001b[0m DQN deploy is finished, final episode return with \u001b[1;36m134\u001b[0m steps is: \u001b[1m[\u001b[0m\u001b[1;36m45.218613\u001b[0m\u001b[1m]\u001b[0m                                                          \u001b]8;id=114355;file://c:\\Users\\User\\.conda\\envs\\ppo\\lib\\site-packages\\ding\\bonus\\ppof.py\u001b\\\u001b[2mppof.py\u001b[0m\u001b]8;;\u001b\\\u001b[2m:\u001b[0m\u001b]8;id=316089;file://c:\\Users\\User\\.conda\\envs\\ppo\\lib\\site-packages\\ding\\bonus\\ppof.py#344\u001b\\\u001b[2m344\u001b[0m\u001b]8;;\u001b\\\n"
      ]
     },
     "metadata": {},
     "output_type": "display_data"
    },
    {
     "data": {
      "text/html": [
       "<pre style=\"white-space:pre;overflow-x:auto;line-height:normal;font-family:Menlo,'DejaVu Sans Mono',consolas,'Courier New',monospace\"><span style=\"color: #7fbfbf; text-decoration-color: #7fbfbf\">[04-24 23:57:45] </span><span style=\"color: #000080; text-decoration-color: #000080\">INFO    </span> DQN deploy is finished, final episode return with <span style=\"color: #008080; text-decoration-color: #008080; font-weight: bold\">196</span> steps is: <span style=\"font-weight: bold\">[</span><span style=\"color: #008080; text-decoration-color: #008080; font-weight: bold\">304.19318</span><span style=\"font-weight: bold\">]</span>                                                          <a href=\"file://c:\\Users\\User\\.conda\\envs\\ppo\\lib\\site-packages\\ding\\bonus\\ppof.py\" target=\"_blank\"><span style=\"color: #7f7f7f; text-decoration-color: #7f7f7f\">ppof.py</span></a><span style=\"color: #7f7f7f; text-decoration-color: #7f7f7f\">:</span><a href=\"file://c:\\Users\\User\\.conda\\envs\\ppo\\lib\\site-packages\\ding\\bonus\\ppof.py#344\" target=\"_blank\"><span style=\"color: #7f7f7f; text-decoration-color: #7f7f7f\">344</span></a>\n",
       "</pre>\n"
      ],
      "text/plain": [
       "\u001b[2;36m[04-24 23:57:45]\u001b[0m\u001b[2;36m \u001b[0m\u001b[34mINFO    \u001b[0m DQN deploy is finished, final episode return with \u001b[1;36m196\u001b[0m steps is: \u001b[1m[\u001b[0m\u001b[1;36m304.19318\u001b[0m\u001b[1m]\u001b[0m                                                          \u001b]8;id=574033;file://c:\\Users\\User\\.conda\\envs\\ppo\\lib\\site-packages\\ding\\bonus\\ppof.py\u001b\\\u001b[2mppof.py\u001b[0m\u001b]8;;\u001b\\\u001b[2m:\u001b[0m\u001b]8;id=348914;file://c:\\Users\\User\\.conda\\envs\\ppo\\lib\\site-packages\\ding\\bonus\\ppof.py#344\u001b\\\u001b[2m344\u001b[0m\u001b]8;;\u001b\\\n"
      ]
     },
     "metadata": {},
     "output_type": "display_data"
    },
    {
     "data": {
      "text/html": [
       "<pre style=\"white-space:pre;overflow-x:auto;line-height:normal;font-family:Menlo,'DejaVu Sans Mono',consolas,'Courier New',monospace\"><span style=\"color: #7fbfbf; text-decoration-color: #7fbfbf\">[04-24 23:57:46] </span><span style=\"color: #000080; text-decoration-color: #000080\">INFO    </span> DQN deploy is finished, final episode return with <span style=\"color: #008080; text-decoration-color: #008080; font-weight: bold\">187</span> steps is: <span style=\"font-weight: bold\">[</span><span style=\"color: #008080; text-decoration-color: #008080; font-weight: bold\">262.693</span><span style=\"font-weight: bold\">]</span>                                                            <a href=\"file://c:\\Users\\User\\.conda\\envs\\ppo\\lib\\site-packages\\ding\\bonus\\ppof.py\" target=\"_blank\"><span style=\"color: #7f7f7f; text-decoration-color: #7f7f7f\">ppof.py</span></a><span style=\"color: #7f7f7f; text-decoration-color: #7f7f7f\">:</span><a href=\"file://c:\\Users\\User\\.conda\\envs\\ppo\\lib\\site-packages\\ding\\bonus\\ppof.py#344\" target=\"_blank\"><span style=\"color: #7f7f7f; text-decoration-color: #7f7f7f\">344</span></a>\n",
       "</pre>\n"
      ],
      "text/plain": [
       "\u001b[2;36m[04-24 23:57:46]\u001b[0m\u001b[2;36m \u001b[0m\u001b[34mINFO    \u001b[0m DQN deploy is finished, final episode return with \u001b[1;36m187\u001b[0m steps is: \u001b[1m[\u001b[0m\u001b[1;36m262.693\u001b[0m\u001b[1m]\u001b[0m                                                            \u001b]8;id=838260;file://c:\\Users\\User\\.conda\\envs\\ppo\\lib\\site-packages\\ding\\bonus\\ppof.py\u001b\\\u001b[2mppof.py\u001b[0m\u001b]8;;\u001b\\\u001b[2m:\u001b[0m\u001b]8;id=632485;file://c:\\Users\\User\\.conda\\envs\\ppo\\lib\\site-packages\\ding\\bonus\\ppof.py#344\u001b\\\u001b[2m344\u001b[0m\u001b]8;;\u001b\\\n"
      ]
     },
     "metadata": {},
     "output_type": "display_data"
    },
    {
     "data": {
      "text/html": [
       "<pre style=\"white-space:pre;overflow-x:auto;line-height:normal;font-family:Menlo,'DejaVu Sans Mono',consolas,'Courier New',monospace\"><span style=\"color: #7fbfbf; text-decoration-color: #7fbfbf\">[04-24 23:57:47] </span><span style=\"color: #000080; text-decoration-color: #000080\">INFO    </span> DQN deploy is finished, final episode return with <span style=\"color: #008080; text-decoration-color: #008080; font-weight: bold\">180</span> steps is: <span style=\"font-weight: bold\">[</span><span style=\"color: #008080; text-decoration-color: #008080; font-weight: bold\">272.29636</span><span style=\"font-weight: bold\">]</span>                                                          <a href=\"file://c:\\Users\\User\\.conda\\envs\\ppo\\lib\\site-packages\\ding\\bonus\\ppof.py\" target=\"_blank\"><span style=\"color: #7f7f7f; text-decoration-color: #7f7f7f\">ppof.py</span></a><span style=\"color: #7f7f7f; text-decoration-color: #7f7f7f\">:</span><a href=\"file://c:\\Users\\User\\.conda\\envs\\ppo\\lib\\site-packages\\ding\\bonus\\ppof.py#344\" target=\"_blank\"><span style=\"color: #7f7f7f; text-decoration-color: #7f7f7f\">344</span></a>\n",
       "</pre>\n"
      ],
      "text/plain": [
       "\u001b[2;36m[04-24 23:57:47]\u001b[0m\u001b[2;36m \u001b[0m\u001b[34mINFO    \u001b[0m DQN deploy is finished, final episode return with \u001b[1;36m180\u001b[0m steps is: \u001b[1m[\u001b[0m\u001b[1;36m272.29636\u001b[0m\u001b[1m]\u001b[0m                                                          \u001b]8;id=96083;file://c:\\Users\\User\\.conda\\envs\\ppo\\lib\\site-packages\\ding\\bonus\\ppof.py\u001b\\\u001b[2mppof.py\u001b[0m\u001b]8;;\u001b\\\u001b[2m:\u001b[0m\u001b]8;id=625252;file://c:\\Users\\User\\.conda\\envs\\ppo\\lib\\site-packages\\ding\\bonus\\ppof.py#344\u001b\\\u001b[2m344\u001b[0m\u001b]8;;\u001b\\\n"
      ]
     },
     "metadata": {},
     "output_type": "display_data"
    },
    {
     "data": {
      "text/html": [
       "<pre style=\"white-space:pre;overflow-x:auto;line-height:normal;font-family:Menlo,'DejaVu Sans Mono',consolas,'Courier New',monospace\"><span style=\"color: #7fbfbf; text-decoration-color: #7fbfbf\">[04-24 23:57:48] </span><span style=\"color: #000080; text-decoration-color: #000080\">INFO    </span> DQN deploy is finished, final episode return with <span style=\"color: #008080; text-decoration-color: #008080; font-weight: bold\">167</span> steps is: <span style=\"font-weight: bold\">[</span><span style=\"color: #008080; text-decoration-color: #008080; font-weight: bold\">265.2151</span><span style=\"font-weight: bold\">]</span>                                                           <a href=\"file://c:\\Users\\User\\.conda\\envs\\ppo\\lib\\site-packages\\ding\\bonus\\ppof.py\" target=\"_blank\"><span style=\"color: #7f7f7f; text-decoration-color: #7f7f7f\">ppof.py</span></a><span style=\"color: #7f7f7f; text-decoration-color: #7f7f7f\">:</span><a href=\"file://c:\\Users\\User\\.conda\\envs\\ppo\\lib\\site-packages\\ding\\bonus\\ppof.py#344\" target=\"_blank\"><span style=\"color: #7f7f7f; text-decoration-color: #7f7f7f\">344</span></a>\n",
       "</pre>\n"
      ],
      "text/plain": [
       "\u001b[2;36m[04-24 23:57:48]\u001b[0m\u001b[2;36m \u001b[0m\u001b[34mINFO    \u001b[0m DQN deploy is finished, final episode return with \u001b[1;36m167\u001b[0m steps is: \u001b[1m[\u001b[0m\u001b[1;36m265.2151\u001b[0m\u001b[1m]\u001b[0m                                                           \u001b]8;id=253867;file://c:\\Users\\User\\.conda\\envs\\ppo\\lib\\site-packages\\ding\\bonus\\ppof.py\u001b\\\u001b[2mppof.py\u001b[0m\u001b]8;;\u001b\\\u001b[2m:\u001b[0m\u001b]8;id=304432;file://c:\\Users\\User\\.conda\\envs\\ppo\\lib\\site-packages\\ding\\bonus\\ppof.py#344\u001b\\\u001b[2m344\u001b[0m\u001b]8;;\u001b\\\n"
      ]
     },
     "metadata": {},
     "output_type": "display_data"
    },
    {
     "data": {
      "text/html": [
       "<pre style=\"white-space:pre;overflow-x:auto;line-height:normal;font-family:Menlo,'DejaVu Sans Mono',consolas,'Courier New',monospace\"><span style=\"color: #7fbfbf; text-decoration-color: #7fbfbf\">[04-24 23:57:50] </span><span style=\"color: #000080; text-decoration-color: #000080\">INFO    </span> DQN deploy is finished, final episode return with <span style=\"color: #008080; text-decoration-color: #008080; font-weight: bold\">192</span> steps is: <span style=\"font-weight: bold\">[</span><span style=\"color: #008080; text-decoration-color: #008080; font-weight: bold\">249.39899</span><span style=\"font-weight: bold\">]</span>                                                          <a href=\"file://c:\\Users\\User\\.conda\\envs\\ppo\\lib\\site-packages\\ding\\bonus\\ppof.py\" target=\"_blank\"><span style=\"color: #7f7f7f; text-decoration-color: #7f7f7f\">ppof.py</span></a><span style=\"color: #7f7f7f; text-decoration-color: #7f7f7f\">:</span><a href=\"file://c:\\Users\\User\\.conda\\envs\\ppo\\lib\\site-packages\\ding\\bonus\\ppof.py#344\" target=\"_blank\"><span style=\"color: #7f7f7f; text-decoration-color: #7f7f7f\">344</span></a>\n",
       "</pre>\n"
      ],
      "text/plain": [
       "\u001b[2;36m[04-24 23:57:50]\u001b[0m\u001b[2;36m \u001b[0m\u001b[34mINFO    \u001b[0m DQN deploy is finished, final episode return with \u001b[1;36m192\u001b[0m steps is: \u001b[1m[\u001b[0m\u001b[1;36m249.39899\u001b[0m\u001b[1m]\u001b[0m                                                          \u001b]8;id=34574;file://c:\\Users\\User\\.conda\\envs\\ppo\\lib\\site-packages\\ding\\bonus\\ppof.py\u001b\\\u001b[2mppof.py\u001b[0m\u001b]8;;\u001b\\\u001b[2m:\u001b[0m\u001b]8;id=642539;file://c:\\Users\\User\\.conda\\envs\\ppo\\lib\\site-packages\\ding\\bonus\\ppof.py#344\u001b\\\u001b[2m344\u001b[0m\u001b]8;;\u001b\\\n"
      ]
     },
     "metadata": {},
     "output_type": "display_data"
    },
    {
     "data": {
      "text/html": [
       "<pre style=\"white-space:pre;overflow-x:auto;line-height:normal;font-family:Menlo,'DejaVu Sans Mono',consolas,'Courier New',monospace\"><span style=\"color: #7fbfbf; text-decoration-color: #7fbfbf\">[04-24 23:57:51] </span><span style=\"color: #000080; text-decoration-color: #000080\">INFO    </span> DQN deploy is finished, final episode return with <span style=\"color: #008080; text-decoration-color: #008080; font-weight: bold\">209</span> steps is: <span style=\"font-weight: bold\">[</span><span style=\"color: #008080; text-decoration-color: #008080; font-weight: bold\">287.61078</span><span style=\"font-weight: bold\">]</span>                                                          <a href=\"file://c:\\Users\\User\\.conda\\envs\\ppo\\lib\\site-packages\\ding\\bonus\\ppof.py\" target=\"_blank\"><span style=\"color: #7f7f7f; text-decoration-color: #7f7f7f\">ppof.py</span></a><span style=\"color: #7f7f7f; text-decoration-color: #7f7f7f\">:</span><a href=\"file://c:\\Users\\User\\.conda\\envs\\ppo\\lib\\site-packages\\ding\\bonus\\ppof.py#344\" target=\"_blank\"><span style=\"color: #7f7f7f; text-decoration-color: #7f7f7f\">344</span></a>\n",
       "</pre>\n"
      ],
      "text/plain": [
       "\u001b[2;36m[04-24 23:57:51]\u001b[0m\u001b[2;36m \u001b[0m\u001b[34mINFO    \u001b[0m DQN deploy is finished, final episode return with \u001b[1;36m209\u001b[0m steps is: \u001b[1m[\u001b[0m\u001b[1;36m287.61078\u001b[0m\u001b[1m]\u001b[0m                                                          \u001b]8;id=94187;file://c:\\Users\\User\\.conda\\envs\\ppo\\lib\\site-packages\\ding\\bonus\\ppof.py\u001b\\\u001b[2mppof.py\u001b[0m\u001b]8;;\u001b\\\u001b[2m:\u001b[0m\u001b]8;id=711693;file://c:\\Users\\User\\.conda\\envs\\ppo\\lib\\site-packages\\ding\\bonus\\ppof.py#344\u001b\\\u001b[2m344\u001b[0m\u001b]8;;\u001b\\\n"
      ]
     },
     "metadata": {},
     "output_type": "display_data"
    },
    {
     "data": {
      "text/plain": [
       "EvalReturn(eval_value=247.93246, eval_value_std=72.36859)"
      ]
     },
     "execution_count": 11,
     "metadata": {},
     "output_type": "execute_result"
    }
   ],
   "source": [
    "from easydict import EasyDict\n",
    "from random import randint\n",
    "import torch\n",
    "\n",
    "warnings.filterwarnings('ignore')\n",
    "\n",
    "env = DingEnvWrapper(gym.make(\"LunarLander-v2\"), EasyDict(env_wrapper='default'))\n",
    "eval_agent = PPOFAgent(env_id=\"LunarLander-v2\", exp_name=\"LunarLander-v2-PPO-MLP\", cfg=cfg)\n",
    "eval_agent.policy.eval_mode.load_state_dict(torch.load(MANUAL_CKPT))\n",
    "\n",
    "eval_agent.deploy(True, seed=[randint(0, 1e9) for _ in range(20)])"
   ]
  }
 ],
 "metadata": {
  "kernelspec": {
   "display_name": "machine-learning",
   "language": "python",
   "name": "python3"
  },
  "language_info": {
   "codemirror_mode": {
    "name": "ipython",
    "version": 3
   },
   "file_extension": ".py",
   "mimetype": "text/x-python",
   "name": "python",
   "nbconvert_exporter": "python",
   "pygments_lexer": "ipython3",
   "version": "3.10.14"
  }
 },
 "nbformat": 4,
 "nbformat_minor": 2
}
